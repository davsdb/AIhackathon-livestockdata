{
 "cells": [
  {
   "cell_type": "code",
   "execution_count": null,
   "id": "a8cc0c95",
   "metadata": {},
   "outputs": [],
   "source": [
    "import pandas as pd\n",
    "import h2o\n",
    "from h2o.automl import H2OAutoML"
   ]
  },
  {
   "cell_type": "code",
   "execution_count": null,
   "id": "98e8468c-a4e5-456b-aa04-26d1f7f3c502",
   "metadata": {},
   "outputs": [],
   "source": [
    "df = pd.read_csv(\"df_ready.csv\")\n",
    "\n",
    "df_filter = df.filter(\n",
    "    items = [\n",
    "        \"AgeMonthsInsemination\",\n",
    "        \"Milk\",\n",
    "        \"Fat\",\n",
    "        \"Proteins\",\n",
    "        \"ThiMax_dayless_5\",\n",
    "        \"ThiMax_dayless_30\",\n",
    "        \"ThiMax_dayless_60\",\n",
    "        \"ThiMax_dayless_90\",\n",
    "        \"ThiMax_dayless_120\",\n",
    "        \"DaysOpen\"\n",
    "    ]\n",
    ")\n",
    "\n",
    "h2o.init(max_mem_size = \"150G\")\n",
    "\n",
    "df_h2o = h2o.H2OFrame(df_filter)\n",
    "df_train, df_validation, df_test = df_h2o.split_frame(ratios = [0.7, 0.2])\n",
    "\n",
    "targets = [\n",
    "    \"DaysOpen\"\n",
    "]\n",
    "\n",
    "for target in targets:\n",
    "\n",
    "    X = [column for column in df_h2o.columns if column not in targets]\n",
    "    y = target\n",
    "\n",
    "    aml = H2OAutoML(\n",
    "        max_runtime_secs = 23 * 3600,\n",
    "        seed = 42,\n",
    "        nfolds = 0,\n",
    "        exclude_algos = [\"StackedEnsemble\"],\n",
    "        verbosity = \"info\"\n",
    "    )\n",
    "\n",
    "    aml.train(\n",
    "        x = X,\n",
    "        y = y,\n",
    "        training_frame = df_train,\n",
    "        validation_frame = df_validation,\n",
    "        leaderboard_frame = df_test\n",
    "    )\n",
    "\n",
    "    lb = aml.leaderboard  # get leader board\n",
    "    \n",
    "    print(f\"Target: {target}\")\n",
    "    print(lb.head(20))\n",
    "\n",
    "    df_lb = lb.as_data_frame()\n",
    "    df_lb.to_csv(f\"lb_{target}.csv\")"
   ]
  }
 ],
 "metadata": {
  "kernelspec": {
   "display_name": "Python 3 (ipykernel)",
   "language": "python",
   "name": "python3"
  },
  "language_info": {
   "codemirror_mode": {
    "name": "ipython",
    "version": 3
   },
   "file_extension": ".py",
   "mimetype": "text/x-python",
   "name": "python",
   "nbconvert_exporter": "python",
   "pygments_lexer": "ipython3",
   "version": "3.10.11"
  }
 },
 "nbformat": 4,
 "nbformat_minor": 5
}
