{
 "cells": [
  {
   "cell_type": "code",
   "execution_count": null,
   "id": "a109f82b",
   "metadata": {},
   "outputs": [],
   "source": [
    "import pandas as pd\n",
    "import numpy as np\n",
    "from datetime import timedelta\n",
    "import matplotlib.pyplot as plt\n",
    "import seaborn as sns\n",
    "import warnings\n",
    "warnings.filterwarnings(\"ignore\")"
   ]
  },
  {
   "cell_type": "markdown",
   "id": "207d4c18-82e2-4168-ab45-9311997c3a50",
   "metadata": {},
   "source": [
    "### **Step 1**: calculation of the target \"DaysOpen\""
   ]
  },
  {
   "cell_type": "code",
   "execution_count": null,
   "id": "64b995e0-2d30-4234-9d91-1e8f8dc3c3e2",
   "metadata": {
    "tags": []
   },
   "outputs": [],
   "source": [
    "df_par = pd.read_csv(\n",
    "    \"parto.csv\",\n",
    "    usecols = [\n",
    "        \"idAnimale\", \n",
    "        \"codiceIstat\",\n",
    "        \"siglaProvincia\",\n",
    "        \"codiceSpecieAIA\",\n",
    "        \"codiceRazzaAIA\", \n",
    "        \"DataParto\"\n",
    "    ]\n",
    ")\n",
    "\n",
    "print(f\"Initial dataset records: {df_par.shape[0]}\")\n",
    "\n",
    "df_par[\"DataParto\"] = pd.to_datetime(df_par[\"DataParto\"], yearfirst = True)\n",
    "df_par[\"DataInseminazione\"] = df_par[\"DataParto\"].apply(lambda x: x - timedelta(days = 285)) # 285 days: average bovine geastation\n",
    "df_par[\"DataInseminazione\"] = pd.to_datetime(df_par[\"DataInseminazione\"], yearfirst = True)\n",
    "\n",
    "df_par = df_par.sort_values(by = [\"idAnimale\", \"DataInseminazione\"])\n",
    "df_par[\"DaysOpen\"] = df_par.groupby(\"idAnimale\")[\"DataParto\"].shift(1).sub(df_par[\"DataInseminazione\"]).dt.days.abs()\n",
    "\n",
    "df_par.reset_index(inplace = True, drop = True)\n",
    "df_par.dropna(inplace = True)\n",
    "\n",
    "df_par.to_csv(\"days_open.csv\", index = False)\n",
    "print(f\"Final dataset records: {df_par.shape[0]}\")"
   ]
  },
  {
   "cell_type": "markdown",
   "id": "ec7859c4-15c7-4184-9e03-8211bf7d03ba",
   "metadata": {},
   "source": [
    "### **Step 2**: calculation of the age in months \"EtaMesiInseminazione\""
   ]
  },
  {
   "cell_type": "code",
   "execution_count": null,
   "id": "24d3eaa0-c821-4dbc-9738-8bd583a74ce8",
   "metadata": {
    "tags": []
   },
   "outputs": [],
   "source": [
    "df_an = pd.read_csv(\"anagrafica.csv\", usecols = [\"idAnimale\", \"DataNascita\"])\n",
    "print(f\"Initial anagrafica dataset records: {df_an.shape[0]}\")\n",
    "\n",
    "df_do = pd.read_csv(\"days_open.csv\")\n",
    "print(f\"Initial parto dataset records: {df_do.shape[0]}\")\n",
    "\n",
    "df = pd.merge(\n",
    "    df_an.drop_duplicates(),\n",
    "    df_do,\n",
    "    on = [\"idAnimale\"],\n",
    "    how = \"inner\"\n",
    ")\n",
    "\n",
    "df[\"DataNascita\"] = pd.to_datetime(df[\"DataNascita\"])\n",
    "df[\"DataInseminazione\"] = pd.to_datetime(df[\"DataInseminazione\"])\n",
    "\n",
    "df[\"EtaMesiInseminazione\"] = (df[\"DataInseminazione\"].dt.year - df[\"DataNascita\"].dt.year) * 12 + df[\"DataInseminazione\"].dt.month - df[\"DataNascita\"].dt.month\n",
    "df.dropna(inplace = True)\n",
    "\n",
    "df.to_csv(\"days_open.csv\", index = False)\n",
    "print(f\"Final dataset records: {df.shape[0]}\")"
   ]
  },
  {
   "cell_type": "markdown",
   "id": "31c8e73c-6920-4ddf-b1b6-d24a3fe762b0",
   "metadata": {},
   "source": [
    "### **Step 3**: select only \"Frisona\" in codiceRazzaAIA"
   ]
  },
  {
   "cell_type": "code",
   "execution_count": null,
   "id": "4e66f9d7-7144-43fd-aebf-e5411ab5a143",
   "metadata": {
    "tags": []
   },
   "outputs": [],
   "source": [
    "df[\"codiceRazzaAIA\"].unique()"
   ]
  },
  {
   "cell_type": "code",
   "execution_count": null,
   "id": "c6e2bf0f-71ab-4ee5-9fc6-d1663487cbd3",
   "metadata": {
    "tags": []
   },
   "outputs": [],
   "source": [
    "df.replace(\n",
    "    {\n",
    "        \"2\" : \"02\",\n",
    "        2.0 : \"02\", \n",
    "        \"2.0\" : \"02\"   \n",
    "    }, \n",
    "    inplace = True\n",
    ")"
   ]
  },
  {
   "cell_type": "code",
   "execution_count": null,
   "id": "eb4a3c9b-4728-4177-aaa0-22e109208962",
   "metadata": {
    "tags": []
   },
   "outputs": [],
   "source": [
    "df[\"codiceRazzaAIA\"].value_counts()"
   ]
  },
  {
   "cell_type": "code",
   "execution_count": null,
   "id": "e2d0bbc8-360f-45b3-8585-e54b4e546aa8",
   "metadata": {
    "tags": []
   },
   "outputs": [],
   "source": [
    "print(f\"Frisona accounts for {round((2810748 / 3743870) * 100, 2)} % of data\")"
   ]
  },
  {
   "cell_type": "code",
   "execution_count": null,
   "id": "13dedd0b-0be4-4e2a-b572-6c3e4aa00673",
   "metadata": {
    "tags": []
   },
   "outputs": [],
   "source": [
    "df = df[df[\"codiceRazzaAIA\"] == \"02\"]\n",
    "df.shape"
   ]
  },
  {
   "cell_type": "code",
   "execution_count": null,
   "id": "c4495e7e-2962-4e10-8239-c49875b90c6f",
   "metadata": {
    "tags": []
   },
   "outputs": [],
   "source": [
    "sns.histplot(\n",
    "    df[\"idAnimale\"].value_counts().values,\n",
    "    binwidth = 1\n",
    ")\n",
    "\n",
    "plt.axvline(x = df[\"idAnimale\"].value_counts().values.mean(), c = \"red\", linestyle = \"--\")\n",
    "plt.text(x = df[\"idAnimale\"].value_counts().values.mean() + 0.2, y = 700000, s = \"mean = 1.83\", fontsize = 8, fontweight = \"bold\")\n",
    "plt.show()"
   ]
  },
  {
   "cell_type": "code",
   "execution_count": null,
   "id": "026da9cf-7da4-45ff-8290-8248d18c2c4f",
   "metadata": {},
   "outputs": [],
   "source": [
    "idAnimal_counts = df[\"idAnimal\"].value_counts()\n",
    "idAnimal_to_retain = idAnimal_counts[idAnimal_counts <= 3].index # select only idAnimal counts <= 3\n",
    "\n",
    "df = df[df[\"idAnimal\"].isin(idAnimal_to_retain)]"
   ]
  },
  {
   "cell_type": "code",
   "execution_count": null,
   "id": "ef10464f-3e6f-464f-9b75-6339d7a6aff0",
   "metadata": {
    "tags": []
   },
   "outputs": [],
   "source": [
    "df.to_csv(\"days_open_frisona.csv\", index = False)\n",
    "print(f\"Final dataset records: {df.shape[0]}\")"
   ]
  },
  {
   "cell_type": "markdown",
   "id": "3901dc68-b63f-494a-841b-58c4f86cde5c",
   "metadata": {},
   "source": [
    "### **Step 4**: concatenation of THI data up to 180 days"
   ]
  },
  {
   "cell_type": "code",
   "execution_count": null,
   "id": "460e1912-89dd-4ea9-82be-7de3d49d358a",
   "metadata": {},
   "outputs": [],
   "source": [
    "df_clima = pd.read_csv(\"clima.csv\")\n",
    "print(f\"Initial clima dataset records: {df_clima.shape[0]}\")\n",
    "\n",
    "df_clima_grouped = df_clima.groupby([\"siglaProvincia\", \"DataRilevamentoClimatico\"]).agg(\n",
    "    {\n",
    "        \"ThiMinimo\" : \"mean\",\n",
    "        \"ThiMassimo\" : \"mean\"\n",
    "    }\n",
    ")\n",
    "\n",
    "df_clima_grouped = df_clima_grouped.reset_index()\n",
    "df_clima_grouped[\"DataRilevamentoClimatico\"] = pd.to_datetime(df_clima_grouped[\"DataRilevamentoClimatico\"])\n",
    "df_clima_grouped[\"Year\"] = df_clima_grouped[\"DataRilevamentoClimatico\"].dt.year\n",
    "df_clima_grouped[\"Month\"] = df_clima_grouped[\"DataRilevamentoClimatico\"].dt.month\n",
    "df_clima_grouped[\"Day\"] = df_clima_grouped[\"DataRilevamentoClimatico\"].dt.day\n",
    "\n",
    "df_do = pd.read_csv(\"days_open_frisona.csv\")\n",
    "print(f\"Initial days open dataset records: {df_do.shape[0]}\")\n",
    "\n",
    "df_do[\"DataInseminazione\"] = pd.to_datetime(df_do[\"DataInseminazione\"])\n",
    "df_do[\"Year\"] = df_do[\"DataInseminazione\"].dt.year\n",
    "df_do[\"Month\"] = df_do[\"DataInseminazione\"].dt.month\n",
    "df_do[\"Day\"] = df_do[\"DataInseminazione\"].dt.day\n",
    "\n",
    "df = pd.merge(\n",
    "    df_clima_grouped,\n",
    "    df_do,\n",
    "    on = [\"siglaProvincia\", \"Year\", \"Month\", \"Day\"]\n",
    ")\n",
    "\n",
    "df.rename(\n",
    "    columns = {\n",
    "        \"ThiMinimo\" : \"ThiMin_dayless_0\",\n",
    "        \"ThiMassimo\" : \"ThiMax_dayless_0\",\n",
    "    },\n",
    "    inplace = True\n",
    ")\n",
    "\n",
    "for day in range(1, 181):\n",
    "\n",
    "    if day == 1:\n",
    "        df[\"DataRilevamentoClimatico\"] = df[\"DataInseminazione\"] - pd.Timedelta(days = day)\n",
    "\n",
    "        df_temp = pd.merge(\n",
    "            df,\n",
    "            df_clima_grouped[[\"siglaProvincia\", \"DataRilevamentoClimatico\", \"ThiMinimo\", \"ThiMassimo\"]],\n",
    "            how = \"inner\",\n",
    "            on = [\"siglaProvincia\", \"DataRilevamentoClimatico\"]\n",
    "        )\n",
    "\n",
    "        df_temp.rename(\n",
    "            columns = {\n",
    "                \"ThiMinimo\" : f\"ThiMin_dayless_{day}\",\n",
    "                \"ThiMassimo\" : f\"ThiMax_dayless_{day}\",\n",
    "            },\n",
    "            inplace = True\n",
    "        )\n",
    "\n",
    "        df_final = df_temp\n",
    "    \n",
    "    else:\n",
    "        df_final[\"DataRilevamentoClimatico\"] = df_final[\"DataInseminazione\"] - pd.Timedelta(days = day)\n",
    "\n",
    "        df_temp = pd.merge(\n",
    "            df_final,\n",
    "            df_clima_grouped[[\"siglaProvincia\", \"DataRilevamentoClimatico\", \"ThiMinimo\", \"ThiMassimo\"]],\n",
    "            how = \"inner\",\n",
    "            on = [\"siglaProvincia\", \"DataRilevamentoClimatico\"]\n",
    "        )\n",
    "\n",
    "        df_temp.rename(\n",
    "            columns = {\n",
    "                \"ThiMinimo\" : f\"ThiMin_dayless_{day}\",\n",
    "                \"ThiMassimo\" : f\"ThiMax_dayless_{day}\",\n",
    "            },\n",
    "            inplace = True\n",
    "        )\n",
    "\n",
    "        df_final = df_temp\n",
    "        \n",
    "df_final.dropna(inplace = True)\n",
    "df_final.to_csv(\"days_open_clima.csv\", index = False)\n",
    "print(f\"Final dataset records: {df_final.shape[0]}\")"
   ]
  },
  {
   "cell_type": "markdown",
   "id": "e248140c-d213-447a-bdac-32bd96caf24d",
   "metadata": {},
   "source": [
    "### **Step 5**: selection THImax effect until 5, 15, 30, 45, 60, 75, 90, 120, 150 and 180 days from DataInseminazione (three days windows mean)"
   ]
  },
  {
   "cell_type": "code",
   "execution_count": null,
   "id": "f79936f4-3556-4277-b20c-4e5555642da0",
   "metadata": {
    "tags": []
   },
   "outputs": [],
   "source": [
    "df_final_120 = df_final[[\"idAnimale\", \"siglaProvincia\", \"EtaMesiInseminazione\", \"DataInseminazione\", \"DaysOpen\"]]\n",
    "\n",
    "day_less_to_choose = [5, 15, 30, 45, 60, 75, 90, 120, 150, 180]\n",
    "new_columns = []\n",
    "\n",
    "for number in day_less_to_choose:\n",
    "    prev_col = f\"ThiMax_dayless_{number - 1}\"\n",
    "    curr_col = f\"ThiMax_dayless_{number}\"\n",
    "    next_col = f\"ThiMax_dayless_{number + 1}\"\n",
    "\n",
    "    if prev_col in df_final.columns and curr_col in df_final.columns and next_col in df_final.columns:\n",
    "        new_column_name = f\"ThiMax_dayless_{number}\"\n",
    "        df_final_120[new_column_name] = df_final[[prev_col, curr_col, next_col]].mean(axis = 1)\n",
    "        new_columns.append(new_column_name)\n",
    "        \n",
    "    else:\n",
    "        df_final_120[f\"ThiMax_dayless_{number}\"] = df_final[curr_col]\n",
    "        new_columns.append(f\"ThiMax_dayless_{number}\")\n",
    "\n",
    "df_final_120.to_csv(\"days_open_clima_grouped.csv\", index = False)\n",
    "print(f\"Final dataset records: {df_final_120.shape[0]}\")"
   ]
  },
  {
   "cell_type": "markdown",
   "id": "4510b655-dc08-486d-af98-497bd4d84234",
   "metadata": {},
   "source": [
    "### **Step 6**: concatenation of milk quantity and quality"
   ]
  },
  {
   "cell_type": "code",
   "execution_count": null,
   "id": "d1d22b7a-796e-48ac-94a4-449aa88cb7db",
   "metadata": {
    "tags": []
   },
   "outputs": [],
   "source": [
    "df_lat = pd.read_csv(\"lattazione.csv\")\n",
    "print(f\"Initial lattazione dataset records: {df_lat.shape[0]}\")"
   ]
  },
  {
   "cell_type": "code",
   "execution_count": null,
   "id": "5dee1dd8-a1b9-4d93-998e-c50bec8792a1",
   "metadata": {
    "tags": []
   },
   "outputs": [],
   "source": [
    "df_lat = df_lat[(df_lat[\"LatteEffettivo\"] != \"LatteEffettivo\") | (df_lat[\"GrassoEffettivo\"] != \"GrassoEffettivo\") | (df_lat[\"ProteineEffettive\"] != \"ProteineEffettive\")] \n",
    "df_lat.shape[0]"
   ]
  },
  {
   "cell_type": "code",
   "execution_count": null,
   "id": "04eca1f0-5727-4f75-add3-15ca57c27448",
   "metadata": {
    "tags": []
   },
   "outputs": [],
   "source": [
    "df_lat[\"LatteEffettivo\"] = pd.to_numeric(df_lat[\"LatteEffettivo\"])\n",
    "df_lat[\"GrassoEffettivo\"] = pd.to_numeric(df_lat[\"GrassoEffettivo\"])\n",
    "df_lat[\"ProteineEffettive\"] = pd.to_numeric(df_lat[\"ProteineEffettive\"])"
   ]
  },
  {
   "cell_type": "code",
   "execution_count": null,
   "id": "6ee6a1e3-5f1c-4a0f-81ad-452f77524c95",
   "metadata": {
    "tags": []
   },
   "outputs": [],
   "source": [
    "df_lat_grouped = df_lat.groupby([\"siglaProvincia\", \"DataLattazione\"]).agg(\n",
    "    {\n",
    "        \"LatteEffettivo\" : \"mean\",\n",
    "        \"GrassoEffettivo\" : \"mean\",\n",
    "        \"ProteineEffettive\" : \"mean\"\n",
    "    }\n",
    ")\n",
    "\n",
    "df_lat_grouped = df_lat_grouped.reset_index()\n",
    "df_lat_grouped[\"DataLattazione\"] = pd.to_datetime(df_lat_grouped[\"DataLattazione\"])\n",
    "df_lat_grouped[\"Year\"] = df_lat_grouped[\"DataLattazione\"].dt.year\n",
    "df_lat_grouped[\"Month\"] = df_lat_grouped[\"DataLattazione\"].dt.month\n",
    "df_lat_grouped[\"Day\"] = df_lat_grouped[\"DataLattazione\"].dt.day\n",
    "\n",
    "df_final_120[\"DataInseminazione\"] = pd.to_datetime(df_final_120[\"DataInseminazione\"])\n",
    "df_final_120[\"Year\"] = df_final_120[\"DataInseminazione\"].dt.year\n",
    "df_final_120[\"Month\"] = df_final_120[\"DataInseminazione\"].dt.month\n",
    "df_final_120[\"Day\"] = df_final_120[\"DataInseminazione\"].dt.day\n",
    "\n",
    "df = pd.merge(\n",
    "    df_lat_grouped,\n",
    "    df_final_120,\n",
    "    on = [\"siglaProvincia\", \"Year\", \"Month\", \"Day\"]\n",
    ")\n",
    "\n",
    "df.dropna(inplace = True)"
   ]
  },
  {
   "cell_type": "code",
   "execution_count": null,
   "id": "7d5cb4d1-8755-42c3-8428-50a397fb85f8",
   "metadata": {
    "tags": []
   },
   "outputs": [],
   "source": [
    "df.to_csv(\"days_open_clima_grouped_lattazione.csv\", index = False)\n",
    "print(f\"Final dataset records: {df.shape[0]}\")"
   ]
  },
  {
   "cell_type": "markdown",
   "id": "a00d619a-b443-451a-8bd1-d2ba14f9d520",
   "metadata": {
    "tags": []
   },
   "source": [
    "### **Step 7**: Data analysis"
   ]
  },
  {
   "cell_type": "code",
   "execution_count": null,
   "id": "e2a27f2e-ad4d-49cb-a385-00374029d34a",
   "metadata": {
    "tags": []
   },
   "outputs": [],
   "source": [
    "df = pd.read_csv(\"days_open_clima_grouped_lattazione.csv\")"
   ]
  },
  {
   "cell_type": "code",
   "execution_count": null,
   "id": "5cc6f440-40a4-447d-abca-755aca50a480",
   "metadata": {
    "tags": []
   },
   "outputs": [],
   "source": [
    "sns.set_theme(style = \"ticks\")\n",
    "\n",
    "x = df[\"DaysOpen\"]\n",
    "\n",
    "f, (ax_box, ax_hist) = plt.subplots(\n",
    "    2,\n",
    "    sharex = True,\n",
    "    gridspec_kw = {\"height_ratios\": (.15, .85)}\n",
    ")\n",
    "\n",
    "sns.boxplot(\n",
    "    x,\n",
    "    ax = ax_box,\n",
    "    orient = \"h\",\n",
    "    color = \"lightblue\",\n",
    "    width = 0.5,\n",
    "    fliersize = 2.0\n",
    ").set_title(\"Distribution of target days open\", fontsize = 11, fontweight = \"bold\")\n",
    "\n",
    "sns.histplot(\n",
    "    x,\n",
    "    ax = ax_hist,\n",
    "    bins = 50,\n",
    "    kde = True,\n",
    "    alpha = 0.5\n",
    ")\n",
    "\n",
    "ax_box.set(yticks = [])\n",
    "sns.despine(ax = ax_hist)\n",
    "sns.despine(ax = ax_box, left = True)\n",
    "\n",
    "plt.xlabel(\"Days open values\", fontsize = 11)\n",
    "plt.ylabel(\"Counts\", fontsize = 11)\n",
    "plt.xticks(np.arange(0, 2001, step = 500), fontsize = 9)\n",
    "plt.yticks(np.arange(0, 900001, step = 100000), fontsize = 9)\n",
    "plt.axvline(x = 1.322523e+02, c = \"red\", linestyle = \"--\")\n",
    "plt.text(x = 1.402523e+02, y = 900000, s = \"mean\", fontsize = 8, fontweight = \"bold\")\n",
    "plt.show()"
   ]
  },
  {
   "cell_type": "code",
   "execution_count": null,
   "id": "6f0d3679-6fe1-4e1f-a681-42542882b190",
   "metadata": {
    "tags": []
   },
   "outputs": [],
   "source": [
    "sns.stripplot(\n",
    "    df[\"DaysOpen\"],\n",
    "    orient = \"h\",\n",
    "    color = \"lightblue\"\n",
    ").set_title(\"Distribution of target days open\", fontsize = 11, fontweight = \"bold\")\n",
    "\n",
    "plt.xlabel(\"\")\n",
    "plt.show()"
   ]
  },
  {
   "cell_type": "code",
   "execution_count": null,
   "id": "63716861-21b7-4b37-a0b9-eff2ec010b28",
   "metadata": {
    "tags": []
   },
   "outputs": [],
   "source": [
    "plt.figure(figsize = (20, 8))\n",
    "\n",
    "sns.boxplot(\n",
    "    df.iloc[:, 7:15],\n",
    "    orient = \"h\",\n",
    "    width = 0.5,\n",
    "    fliersize = 2.0    \n",
    ")\n",
    "\n",
    "plt.show()"
   ]
  },
  {
   "cell_type": "code",
   "execution_count": null,
   "id": "6f4811b7-9ddd-43ee-9d34-cc4224a50288",
   "metadata": {
    "tags": []
   },
   "outputs": [],
   "source": [
    "days_less = [5, 15, 30, 45, 60, 75, 90, 120]\n",
    "upper_bound_list = []\n",
    "\n",
    "for day_less in days_less:\n",
    "    Q1 = df[f\"ThiMax_dayless_{day_less}\"].quantile(0.25)\n",
    "    Q3 = df[f\"ThiMax_dayless_{day_less}\"].quantile(0.75)\n",
    "    IQR = Q3 - Q1\n",
    "    \n",
    "    lower_bound = Q1 - 1.5 * IQR\n",
    "    upper_bound = Q3 + 1.5 * IQR\n",
    "    \n",
    "    upper_bound_list.append(upper_bound)\n",
    "    \n",
    "    df_out = df[df[f\"ThiMax_dayless_{day_less}\"] > upper_bound]\n",
    "    \n",
    "    print(f\"ThiMax_dayless_{day_less}: {lower_bound, upper_bound}\")\n",
    "    \n",
    "    plt.figure(figsize = (20, 5))\n",
    "    sns.barplot(x = df_out[\"idCountry\"].value_counts().index, y = df_out[\"idCountry\"].value_counts().values)\n",
    "    plt.show()\n",
    "    \n",
    "print(np.mean(upper_bound_list))"
   ]
  },
  {
   "cell_type": "code",
   "execution_count": null,
   "id": "23d72a0f-69d9-499b-8c25-d0518d589bae",
   "metadata": {
    "tags": []
   },
   "outputs": [],
   "source": [
    "# Remove extreme values on THI\n",
    "\n",
    "ts = np.mean(upper_bound_list)\n",
    "df_filtered = df[~((df[['ThiMax_dayless_5', 'ThiMax_dayless_15', 'ThiMax_dayless_30', 'ThiMax_dayless_45', 'ThiMax_dayless_60', 'ThiMax_dayless_75', 'ThiMax_dayless_90', \"ThiMax_dayless_120\"]] > ts).any(axis = 1))]\n",
    "df_filtered.shape"
   ]
  },
  {
   "cell_type": "code",
   "execution_count": null,
   "id": "67175b4d-cdf9-4f2c-b8a8-0642f9425509",
   "metadata": {
    "tags": []
   },
   "outputs": [],
   "source": [
    "df_filtered.iloc[:, 7:15].describe()"
   ]
  },
  {
   "cell_type": "code",
   "execution_count": null,
   "id": "d5715e93-5176-4d69-bd6b-d9b8924476ba",
   "metadata": {
    "tags": []
   },
   "outputs": [],
   "source": [
    "sns.histplot(\n",
    "    df_filtered[\"DaysOpen\"],\n",
    "    bins = 50,\n",
    "    kde = True,\n",
    "    alpha = 0.5\n",
    ")\n",
    "\n",
    "plt.show()"
   ]
  },
  {
   "cell_type": "code",
   "execution_count": null,
   "id": "82773034-2016-48ce-80d5-b16670b36742",
   "metadata": {
    "tags": []
   },
   "outputs": [],
   "source": [
    "df_filtered = df_filtered[df_filtered[\"DaysOpen\"] >= 21] # remove DaysOpen values under 21\n",
    "df_filtered[\"DaysOpen\"].describe()"
   ]
  },
  {
   "cell_type": "code",
   "execution_count": null,
   "id": "952f825d-383d-4e6f-ad52-63f5f7792eae",
   "metadata": {
    "tags": []
   },
   "outputs": [],
   "source": [
    "df_filtered = df[df[\"AgeMonthsInsemination\"] > 20] # removed AgeMonthsInsemination values under 20\n",
    "df_filtered.shape"
   ]
  },
  {
   "cell_type": "code",
   "execution_count": null,
   "id": "a98a3f25-bf11-41b7-bb02-099b88d83f19",
   "metadata": {
    "tags": []
   },
   "outputs": [],
   "source": [
    "df_filtered.reset_index(inplace = True, drop = True)"
   ]
  },
  {
   "cell_type": "code",
   "execution_count": null,
   "id": "902c8322-e80f-4e85-8a01-4d6f4f082d33",
   "metadata": {
    "tags": []
   },
   "outputs": [],
   "source": [
    "df.iloc[:, 7:16].corr()"
   ]
  },
  {
   "cell_type": "code",
   "execution_count": null,
   "id": "84cedf6f-4d4e-48db-9bc0-db48c7f05e97",
   "metadata": {
    "tags": []
   },
   "outputs": [],
   "source": [
    "df[[\"AgeMonthsInsemination\", \"gPFT\", \"Milk\", \"Fat\", \"Proteins\", \"DaysOpen\"]].corr()"
   ]
  },
  {
   "cell_type": "code",
   "execution_count": null,
   "id": "7f512099",
   "metadata": {},
   "outputs": [],
   "source": [
    "df_filtered.to_csv(\"df_ready.csv\", index = False)\n",
    "print(f\"Final dataset records: {df.shape[0]}\")"
   ]
  },
  {
   "cell_type": "markdown",
   "id": "3a663358-401c-4f40-a2bd-74967e36b7d9",
   "metadata": {
    "tags": []
   },
   "source": [
    "### **Step 8**: Final dataset"
   ]
  },
  {
   "cell_type": "code",
   "execution_count": null,
   "id": "a9f28721",
   "metadata": {},
   "outputs": [],
   "source": [
    "df = pd.read_csv(\"df_ready.csv\")"
   ]
  },
  {
   "cell_type": "code",
   "execution_count": null,
   "id": "8801ca2b-c823-4d47-bc6c-9c9c5c94130b",
   "metadata": {
    "tags": []
   },
   "outputs": [],
   "source": [
    "df = df[\n",
    "    [\n",
    "        \"idAnimale\",\n",
    "        \"siglaProvincia\",\n",
    "        \"EtaMesiInseminazione\",\n",
    "        \"LatteEffettivo\",\n",
    "        \"GrassoEffettivo\",\n",
    "        \"ProteineEffettive\",\n",
    "        \"ThiMax_dayless_5\",\n",
    "        \"ThiMax_dayless_15\",\n",
    "        \"ThiMax_dayless_30\",\n",
    "        \"ThiMax_dayless_45\",\n",
    "        \"ThiMax_dayless_60\",\n",
    "        \"ThiMax_dayless_75\",\n",
    "        \"ThiMax_dayless_90\",\n",
    "        \"ThiMax_dayless_120\",\n",
    "        \"DaysOpen\"\n",
    "    ]\n",
    "]"
   ]
  },
  {
   "cell_type": "code",
   "execution_count": null,
   "id": "1a47b582-621c-4a3d-8882-f2233949deb6",
   "metadata": {
    "tags": []
   },
   "outputs": [],
   "source": [
    "df.rename(\n",
    "    columns = {\n",
    "        \"idAnimale\" : \"idAnimal\",\n",
    "        \"siglaProvincia\" : \"idCountry\",\n",
    "        \"EtaMesiInseminazione\" : \"AgeMonthsInsemination\",\n",
    "        \"LatteEffettivo\" : \"Milk\",\n",
    "        \"GrassoEffettivo\" : \"Fat\",\n",
    "        \"ProteineEffettive\" : \"Proteins\",\n",
    "    },\n",
    "    inplace = True\n",
    ")"
   ]
  },
  {
   "cell_type": "code",
   "execution_count": null,
   "id": "2bf11369-0a29-4d11-aa1b-cadd70fccfa8",
   "metadata": {
    "tags": []
   },
   "outputs": [],
   "source": [
    "df.to_csv(\"df_ready.csv\", index = False)"
   ]
  }
 ],
 "metadata": {
  "kernelspec": {
   "display_name": "Python 3 (ipykernel)",
   "language": "python",
   "name": "python3"
  },
  "language_info": {
   "codemirror_mode": {
    "name": "ipython",
    "version": 3
   },
   "file_extension": ".py",
   "mimetype": "text/x-python",
   "name": "python",
   "nbconvert_exporter": "python",
   "pygments_lexer": "ipython3",
   "version": "3.10.11"
  }
 },
 "nbformat": 4,
 "nbformat_minor": 5
}
